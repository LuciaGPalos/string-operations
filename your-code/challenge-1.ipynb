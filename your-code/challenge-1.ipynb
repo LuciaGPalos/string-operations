{
 "cells": [
  {
   "cell_type": "markdown",
   "metadata": {},
   "source": [
    "# String Operations Lab\n",
    "\n",
    "**Before your start:**\n",
    "\n",
    "- Read the README.md file\n",
    "- Comment as much as you can and use the resources in the README.md file\n",
    "- Happy learning!"
   ]
  },
  {
   "cell_type": "code",
   "execution_count": null,
   "metadata": {},
   "outputs": [],
   "source": [
    "import re"
   ]
  },
  {
   "cell_type": "markdown",
   "metadata": {},
   "source": [
    "# Challenge 1 - Combining Strings\n",
    "\n",
    "Combining strings is an important skill to acquire. There are multiple ways of combining strings in Python, as well as combining strings with variables. We will explore this in the first challenge. In the cell below, combine the strings in the list and add spaces between the strings (do not add a space after the last string). Insert a period after the last string."
   ]
  },
  {
   "cell_type": "code",
   "execution_count": null,
   "metadata": {},
   "outputs": [],
   "source": [
    "str_list = ['Durante', 'un', 'tiempo', 'no', 'estuvo', 'segura', 'de', 'si', 'su', 'marido', 'era', 'su', 'marido']\n",
    "# Your code here:\n"
    #Add period at end
    str_list.append(".")

    #Joining all strings with space:
    str_list_space=' '.join(str_list)
    str(str_list_space).replace('marido .','marido.')
   ]
  },
  {
   "cell_type": "markdown",
   "metadata": {},
   "source": [
    "In the cell below, use the list of strings to create a grocery list. Start the list with the string `Grocery list: ` and include a comma and a space between each item except for the last one. Include a period at the end. Only include foods in the list that start with the letter 'b' and ensure all foods are lower case."
   ]
  },
  {
   "cell_type": "code",
   "execution_count": null,
   "metadata": {},
   "outputs": [],
   "source": [
    "food_list = ['Bananas', 'Chocolate', 'bread', 'diapers', 'Ice Cream', 'Brownie Mix', 'broccoli']\n",
    "# Your code here:\n"
    food_list_commaslower = ', '.join(food_list).lower()
    food_list_b = re.findall(r'b\w+',food_list_commaslower)
    print('Grocery list:',','.join(food_list_b),'.')
   ]
  },
  {
   "cell_type": "markdown",
   "metadata": {},
   "source": [
    "In the cell below, write a function that computes the area of a circle using its radius. Compute the area of the circle and insert the radius and the area between the two strings. Make sure to include spaces between the variable and the strings. \n",
    "\n",
    "Note: You can use the techniques we have learned so far or use f-strings. F-strings allow us to embed code inside strings. You can read more about f-strings [here](https://www.python.org/dev/peps/pep-0498/)."
   ]
  },
  {
   "cell_type": "code",
   "execution_count": null,
   "metadata": {},
   "outputs": [],
   "source": [
    "import math\n",
    "\n",
    "string1 = \"The area of the circle with radius:\"\n",
    "string2  = \"is:\"\n",
    "radius = 4.5\n",
    "\n",
    "def area(x, pi = math.pi):\n",
    "    # This function takes a radius and returns the area of a circle. We also pass a default value for pi.\n",
    "    # Input: Float (and default value for pi)\n",
    "    # Output: Float\n",
    "    \n",
    "    # Sample input: 5.0\n",
    "    # Sample Output: 78.53981633\n",
    "    \n",
    "    # Your code here:\n",
         x = float(input ("Input the radius of the circle : "))
    "    \n",
    "    \n",
    "# Your output string here:"
    print (string1 + str(radius) +string2+str(pi * radius**2))
    area(x,pi)
   ]
  },
  {
   "cell_type": "markdown",
   "metadata": {},
   "source": [
    "# Challenge 2 - Splitting Strings\n",
    "\n",
    "We have first looked at combining strings into one long string. There are times where we need to do the opposite and split the string into smaller components for further analysis. \n",
    "\n",
    "In the cell below, split the string into a list of strings using the space delimiter. Count the frequency of each word in the string in a dictionary. Strip the periods, line breaks and commas from the text. Make sure to remove empty strings from your dictionary."
   ]
  },
  {
   "cell_type": "code",
   "execution_count": null,
   "metadata": {},
   "outputs": [],
   "source": [
    "poem = \"\"\"Some say the world will end in fire,\n",
    "Some say in ice.\n",
    "From what I’ve tasted of desire\n",
    "I hold with those who favor fire.\n",
    "But if it had to perish twice,\n",
    "I think I know enough of hate\n",
    "To say that for destruction ice\n",
    "Is also great\n",
    "And would suffice.\"\"\"\n",
    "\n",
    "# Your code here:\n"
    frequency = {}
    for i in poem.split():
      if i in frequency:
      frequency[i] += 1
    else:
      frequency[i] = 1
    print("Frequency:",frequency)

import re
print(re.split(r'[,.\n]',poem))

##no me es claro como hacer print(re.split(r'[,.\n]',poem)) una variable, tuve que hacer un work around
poem_string_without_commasperiodsbreaks_emptystrings = ['Some say the world will end in fire', '', 'Some say in ice', '', 'From what I’ve tasted of desire', 'I hold with those who favor fire', '', 'But if it had to perish twice', '', 'I think I know enough of hate', 'To say that for destruction ice', 'Is also great', 'And would suffice', '']
for item in poem_string_without_commasperiodsbreaks_emptystrings:
    if(len(item)==0):
        poem_string_without_commasperiodsbreaks_emptystrings.remove(item)
print("Result is: ", poem_string_without_commasperiodsbreaks_emptystrings)
   ]
  },
  {
   "cell_type": "markdown",
   "metadata": {},
   "source": [
    "In the cell below, find all the words that appear in the text and do not appear in the blacklist. You must parse the string but can choose any data structure you wish for the words that do not appear in the blacklist. Remove all non letter characters and convert all words to lower case."
   ]
  },
  {
   "cell_type": "code",
   "execution_count": null,
   "metadata": {},
   "outputs": [],
   "source": [
    "blacklist = ['and', 'as', 'an', 'a', 'the', 'in', 'it']\n",
    "\n",
    "poem = \"\"\"I was angry with my friend; \n",
    "I told my wrath, my wrath did end.\n",
    "I was angry with my foe: \n",
    "I told it not, my wrath did grow. \n",
    "\n",
    "And I waterd it in fears,\n",
    "Night & morning with my tears: \n",
    "And I sunned it with smiles,\n",
    "And with soft deceitful wiles. \n",
    "\n",
    "And it grew both day and night. \n",
    "Till it bore an apple bright. \n",
    "And my foe beheld it shine,\n",
    "And he knew that it was mine. \n",
    "\n",
    "And into my garden stole, \n",
    "When the night had veild the pole; \n",
    "In the morning glad I see; \n",
    "My foe outstretched beneath the tree.\"\"\"\n",
    "\n",
    "# Your code here:\n"
    import re
    print(re.split(r'[,.;: \n]',poem))
    poem_string_without_commasperiodsbreaks_emptystrings=['I', 'was', 'angry', 'with', 'my', 'friend', '', '', 'I', 'told', 'my', 'wrath', '', 'my', 'wrath', 'did', 'end', '', 'I', 'was', 'angry', 'with', 'my', 'foe', '', '', 'I', 'told', 'it', 'not', '', 'my', 'wrath', 'did', 'grow', '', '', '', 'And', 'I', 'waterd', 'it', 'in', 'fears', '', 'Night', '&', 'morning', 'with', 'my', 'tears', '', '', 'And', 'I', 'sunned', 'it', 'with', 'smiles', '', 'And', 'with', 'soft', 'deceitful', 'wiles', '', '', '', 'And', 'it', 'grew', 'both', 'day', 'and', 'night', '', '', 'Till', 'it', 'bore', 'an', 'apple', 'bright', '', '', 'And', 'my', 'foe', 'beheld', 'it', 'shine', '', 'And', 'he', 'knew', 'that', 'it', 'was', 'mine', '', '', '', 'And', 'into', 'my', 'garden', 'stole', '', '', 'When', 'the', 'night', 'had', 'veild', 'the', 'pole', '', '', 'In', 'the', 'morning', 'glad', 'I', 'see', '', '', 'My', 'foe', 'outstretched', 'beneath', 'the', 'tree', '']
    
     for item in poem_string_without_commasperiodsbreaks_emptystrings:
     if(len(item)==0):
        poem_string_without_commasperiodsbreaks_emptystrings.remove(item)
     print(poem_string_without_commasperiodsbreaks_emptystrings)   
     
     with_blacklist=['I', 'was', 'angry', 'with', 'my', 'friend', 'I', 'told', 'my', 'wrath', 'my', 'wrath', 'did', 'end', 'I', 'was', 'angry', 'with', 'my', 'foe', 'I', 'told', 'it', 'not', 'my', 'wrath', 'did', 'grow', 'And', 'I', 'waterd', 'it', 'in', 'fears', 'Night', '&', 'morning', 'with', 'my', 'tears', 'And', 'I', 'sunned', 'it', 'with', 'smiles', 'And', 'with', 'soft', 'deceitful', 'wiles', 'And', 'it', 'grew', 'both', 'day', 'and', 'night', 'Till', 'it', 'bore', 'an', 'apple', 'bright', 'And', 'my', 'foe', 'beheld', 'it', 'shine', '', 'And', 'he', 'knew', 'that', 'it', 'was', 'mine', '', '', '', 'And', 'into', 'my', 'garden', 'stole', '', '', 'When', 'the', 'night', 'had', 'veild', 'the', 'pole', '', '', 'In', 'the', 'morning', 'glad', 'I', 'see', '', '', 'My', 'foe', 'outstretched', 'beneath', 'the', 'tree', '']
     with_blacklist_lower = []
     for item in with_blacklist:
         with_blacklist_lower.append(item.lower())
     print(with_blacklist_lower)

     without_blacklist=set(with_blacklist_lower)-set(blacklist)
     print(without_blacklist)
]
  },
  {
   "cell_type": "markdown",
   "metadata": {},
   "source": [
    "# Challenge 3 - Regular Expressions\n",
    "\n",
    "Sometimes, we would like to perform more complex manipulations of our string. This is where regular expressions come in handy. In the cell below, return all characters that are upper case from the string specified below."
   ]
  },
  {
   "cell_type": "code",
   "execution_count": null,
   "metadata": {},
   "outputs": [],
   "source": [
    "poem = \"\"\"The apparition of these faces in the crowd;\n",
    "Petals on a wet, black bough.\"\"\"\n",
    "\n",
    "# Your code here:\n"
    poem.split()
    poem_list=['The',
     'apparition',
     'of',
     'these',
     'faces',
     'in',
     'the',
     'crowd;',
     'Petals',
     'on',
     'a',
     'wet,',
     'black',
     'bough.']
poem_title=[]
for item in poem_list:
    if (item.istitle()) == True:
        poem_title.append(item)
print(poem_title)
   ]
  },
  {
   "cell_type": "markdown",
   "metadata": {},
   "source": [
    "In the cell below, filter the list provided and return all elements of the list containing a number. To filter the list, use the `re.search` function. Check if the function does not return `None`. You can read more about the `re.search` function [here](https://docs.python.org/3/library/re.html)."
   ]
  },
  {
   "cell_type": "code",
   "execution_count": null,
   "metadata": {},
   "outputs": [],
   "source": [
    "data = ['123abc', 'abc123', 'JohnSmith1', 'ABBY4', 'JANE']\n",
    "\n",
    "# Your code here:\n"
    number_data=[]
for item in data:
    if (item.istitle()) == True:
        number_data.append(item)

data_string=' '.join(data)

print(re.findall(r'\w+\d+',data_string))

#porque el primero no arroja abc? añade al bonus la misma pregunta
   ]
  },
  {
   "cell_type": "markdown",
   "metadata": {},
   "source": [
    "# Bonus Challenge - Regular Expressions II\n",
    "\n",
    "In the cell below, filter the list provided to keep only strings containing at least one digit and at least one lower case letter. As in the previous question, use the `re.search` function and check that the result is not `None`.\n",
    "\n",
    "To read more about regular expressions, check out [this link](https://developers.google.com/edu/python/regular-expressions)."
   ]
  },
  {
   "cell_type": "code",
   "execution_count": null,
   "metadata": {},
   "outputs": [],
   "source": [
    "data = ['123abc', 'abc123', 'JohnSmith1', 'ABBY4', 'JANE']\n",
    "# Your code here:\n"
   ]
  }
 ],
 "metadata": {
  "kernelspec": {
   "display_name": "Python 3",
   "language": "python",
   "name": "python3"
  },
  "language_info": {
   "codemirror_mode": {
    "name": "ipython",
    "version": 3
   },
   "file_extension": ".py",
   "mimetype": "text/x-python",
   "name": "python",
   "nbconvert_exporter": "python",
   "pygments_lexer": "ipython3",
   "version": "3.7.2"
  }
 },
 "nbformat": 4,
 "nbformat_minor": 2
}
